{
 "cells": [
  {
   "cell_type": "code",
   "execution_count": 1,
   "metadata": {},
   "outputs": [
    {
     "data": {
      "text/plain": [
       "\u001b[32mimport \u001b[39m\u001b[36m$ivy.$                                  \u001b[39m"
      ]
     },
     "execution_count": 1,
     "metadata": {},
     "output_type": "execute_result"
    }
   ],
   "source": [
    "// include spark dependency\n",
    "import $ivy.`org.apache.spark::spark-sql:2.4.0`"
   ]
  },
  {
   "cell_type": "code",
   "execution_count": 2,
   "metadata": {},
   "outputs": [
    {
     "data": {
      "text/plain": [
       "\u001b[32mimport \u001b[39m\u001b[36m$ivy.$                            \n",
       "\n",
       "\u001b[39m\n",
       "\u001b[32mimport \u001b[39m\u001b[36m$ivy.$                                  \n",
       "\u001b[39m"
      ]
     },
     "execution_count": 2,
     "metadata": {},
     "output_type": "execute_result"
    }
   ],
   "source": [
    "// include VEGA jars\n",
    "import $ivy.`org.vegas-viz::vegas:0.3.11`\n",
    "\n",
    "import $ivy.`org.vegas-viz::vegas-spark:0.3.11`\n"
   ]
  },
  {
   "cell_type": "code",
   "execution_count": 3,
   "metadata": {},
   "outputs": [
    {
     "data": {
      "text/plain": [
       "\u001b[32mimport \u001b[39m\u001b[36morg.apache.spark.SparkContext._\n",
       "\n",
       "\u001b[39m\n",
       "\u001b[32mimport \u001b[39m\u001b[36morg.apache.spark.rdd._\n",
       "\n",
       "\u001b[39m\n",
       "\u001b[32mimport \u001b[39m\u001b[36morg.apache.spark.util.LongAccumulator\n",
       "\n",
       "\u001b[39m\n",
       "\u001b[32mimport \u001b[39m\u001b[36morg.apache.log4j._\n",
       "\n",
       "\u001b[39m\n",
       "\u001b[32mimport \u001b[39m\u001b[36morg.apache.spark.sql._\n",
       "\n",
       "\u001b[39m\n",
       "\u001b[32mimport \u001b[39m\u001b[36morg.apache.spark.sql.types._\u001b[39m"
      ]
     },
     "execution_count": 3,
     "metadata": {},
     "output_type": "execute_result"
    }
   ],
   "source": [
    "// import spark libraries\n",
    "import org.apache.spark.SparkContext._\n",
    "\n",
    "import org.apache.spark.rdd._\n",
    "\n",
    "import org.apache.spark.util.LongAccumulator\n",
    "\n",
    "import org.apache.log4j._\n",
    "\n",
    "import org.apache.spark.sql._\n",
    "\n",
    "import org.apache.spark.sql.types._"
   ]
  },
  {
   "cell_type": "code",
   "execution_count": 4,
   "metadata": {},
   "outputs": [
    {
     "name": "stderr",
     "output_type": "stream",
     "text": [
      "Using Spark's default log4j profile: org/apache/spark/log4j-defaults.properties\n"
     ]
    },
    {
     "data": {
      "text/plain": [
       "\u001b[36mspark\u001b[39m: \u001b[32mSparkSession\u001b[39m = org.apache.spark.sql.SparkSession@35904116\n",
       "\u001b[36msc\u001b[39m: \u001b[32morg\u001b[39m.\u001b[32mapache\u001b[39m.\u001b[32mspark\u001b[39m.\u001b[32mSparkContext\u001b[39m = org.apache.spark.SparkContext@2eba65e4"
      ]
     },
     "execution_count": 4,
     "metadata": {},
     "output_type": "execute_result"
    }
   ],
   "source": [
    "Logger.getLogger(\"org\").setLevel(Level.ERROR)\n",
    "\n",
    "val spark = SparkSession\n",
    "\n",
    ".builder\n",
    "\n",
    ".appName(\"SentimentAnalysis\")\n",
    "\n",
    ".master(\"local[*]\")\n",
    ".getOrCreate()\n",
    "\n",
    "//and SparkContext sc\n",
    "\n",
    "val sc = spark.sparkContext"
   ]
  },
  {
   "cell_type": "code",
   "execution_count": 5,
   "metadata": {},
   "outputs": [
    {
     "data": {
      "text/plain": [
       "\u001b[36mfilePath\u001b[39m: \u001b[32mString\u001b[39m = \u001b[32m\"./output/*.csv\"\u001b[39m"
      ]
     },
     "execution_count": 5,
     "metadata": {},
     "output_type": "execute_result"
    }
   ],
   "source": [
    "val filePath: String = \"./output/*.csv\""
   ]
  },
  {
   "cell_type": "code",
   "execution_count": 6,
   "metadata": {},
   "outputs": [
    {
     "data": {
      "text/plain": [
       "\u001b[36mcsvSchema\u001b[39m: \u001b[32mStructType\u001b[39m = \u001b[33mList\u001b[39m(\n",
       "  \u001b[33mStructField\u001b[39m(\u001b[32m\"tweet\"\u001b[39m, StringType, true, {}),\n",
       "  \u001b[33mStructField\u001b[39m(\u001b[32m\"prediction\"\u001b[39m, DoubleType, true, {})\n",
       ")"
      ]
     },
     "execution_count": 6,
     "metadata": {},
     "output_type": "execute_result"
    }
   ],
   "source": [
    "// Schema for CSV file\n",
    "val csvSchema = StructType(List(\n",
    "StructField(\"tweet\",StringType,true),\n",
    "StructField(\"prediction\",DoubleType,true)))\n"
   ]
  },
  {
   "cell_type": "code",
   "execution_count": 7,
   "metadata": {},
   "outputs": [
    {
     "data": {
      "text/plain": [
       "defined \u001b[32mfunction\u001b[39m \u001b[36mcreateDFFromReadingFiles\u001b[39m"
      ]
     },
     "execution_count": 7,
     "metadata": {},
     "output_type": "execute_result"
    }
   ],
   "source": [
    "// Create DataFrame from reading csv files\n",
    "def createDFFromReadingFiles(filePath: String): DataFrame = {\n",
    "    val predictionDF = spark.read\n",
    "    .schema(csvSchema)\n",
    "    .csv(filePath)\n",
    "    predictionDF\n",
    "}"
   ]
  },
  {
   "cell_type": "code",
   "execution_count": 8,
   "metadata": {},
   "outputs": [
    {
     "name": "stdout",
     "output_type": "stream",
     "text": [
      "+--------------------+----------+\n",
      "|               tweet|prediction|\n",
      "+--------------------+----------+\n",
      "|How many Ambassad...|       0.0|\n",
      "|This is such a go...|       0.0|\n",
      "|Shattering a hist...|       0.0|\n",
      "|Bharath Burning B...|       0.0|\n",
      "|  IndiaWins INDvsAUS|       0.0|\n",
      "+--------------------+----------+\n",
      "only showing top 5 rows\n",
      "\n"
     ]
    },
    {
     "data": {
      "text/plain": [
       "\u001b[36mpredictionDF\u001b[39m: \u001b[32mDataFrame\u001b[39m = [tweet: string, prediction: double]"
      ]
     },
     "execution_count": 8,
     "metadata": {},
     "output_type": "execute_result"
    }
   ],
   "source": [
    "val predictionDF = createDFFromReadingFiles(filePath)\n",
    "predictionDF.show(5)"
   ]
  },
  {
   "cell_type": "code",
   "execution_count": 9,
   "metadata": {},
   "outputs": [
    {
     "name": "stdout",
     "output_type": "stream",
     "text": [
      "+----------+-----+\n",
      "|prediction|count|\n",
      "+----------+-----+\n",
      "|       0.0|  253|\n",
      "|       1.0|    6|\n",
      "+----------+-----+\n",
      "\n"
     ]
    },
    {
     "data": {
      "text/plain": [
       "\u001b[36msentimentDF\u001b[39m: \u001b[32mDataFrame\u001b[39m = [prediction: double, count: bigint]"
      ]
     },
     "execution_count": 9,
     "metadata": {},
     "output_type": "execute_result"
    }
   ],
   "source": [
    "val sentimentDF = predictionDF.groupBy(\"prediction\").count()\n",
    "sentimentDF.show()"
   ]
  },
  {
   "cell_type": "code",
   "execution_count": 10,
   "metadata": {},
   "outputs": [
    {
     "data": {
      "text/plain": [
       "\u001b[32mimport \u001b[39m\u001b[36mvegas._\n",
       "\n",
       "\u001b[39m\n",
       "\u001b[32mimport \u001b[39m\u001b[36mvegas.render.WindowRenderer._\n",
       "\n",
       "\u001b[39m\n",
       "\u001b[32mimport \u001b[39m\u001b[36mvegas.sparkExt._\n",
       "\n",
       "\u001b[39m\n",
       "\u001b[32mimport \u001b[39m\u001b[36mvegas._\n",
       "\n",
       "\u001b[39m\n",
       "\u001b[32mimport \u001b[39m\u001b[36mvegas.data.External._\u001b[39m"
      ]
     },
     "execution_count": 10,
     "metadata": {},
     "output_type": "execute_result"
    }
   ],
   "source": [
    "import vegas._\n",
    "\n",
    "import vegas.render.WindowRenderer._\n",
    "\n",
    "import vegas.sparkExt._\n",
    "\n",
    "import vegas._\n",
    "\n",
    "import vegas.data.External._"
   ]
  },
  {
   "cell_type": "code",
   "execution_count": 14,
   "metadata": {},
   "outputs": [
    {
     "data": {
      "text/html": [
       "\n",
       "  <iframe id=\"frame-vegas-94a40821-7b4a-4d2c-8eae-ad37263c321a\" sandbox=\"allow-scripts allow-same-origin\" style=\"border: none; width: 100%\" srcdoc=\"&lt;html&gt;\n",
       "  &lt;head&gt;\n",
       "    &lt;script src=&quot;https://cdn.jsdelivr.net/webjars/org.webjars.bower/d3/3.5.17/d3.min.js&quot; charset=&quot;utf-8&quot;&gt;&lt;/script&gt;\n",
       "&lt;script src=&quot;https://cdn.jsdelivr.net/webjars/org.webjars.bower/vega/2.6.3/vega.min.js&quot; charset=&quot;utf-8&quot;&gt;&lt;/script&gt;\n",
       "&lt;script src=&quot;https://cdn.jsdelivr.net/webjars/org.webjars.bower/vega-lite/1.2.0/vega-lite.min.js&quot; charset=&quot;utf-8&quot;&gt;&lt;/script&gt;\n",
       "&lt;script src=&quot;https://vega.github.io/vega-editor/vendor/vega-embed.js&quot; charset=&quot;utf-8&quot;&gt;&lt;/script&gt;\n",
       "  &lt;/head&gt;\n",
       "  &lt;body&gt;\n",
       " &lt;div id='vegas-94a40821-7b4a-4d2c-8eae-ad37263c321a'&gt;&lt;/div&gt;\n",
       " &lt;script&gt;\n",
       "   var embedSpec = {\n",
       "     mode: &quot;vega-lite&quot;,\n",
       "     spec: {\n",
       "  &quot;mark&quot; : &quot;bar&quot;,\n",
       "  &quot;encoding&quot; : {\n",
       "    &quot;x&quot; : {\n",
       "      &quot;field&quot; : &quot;prediction&quot;,\n",
       "      &quot;type&quot; : &quot;nominal&quot;\n",
       "    },\n",
       "    &quot;y&quot; : {\n",
       "      &quot;field&quot; : &quot;count&quot;,\n",
       "      &quot;type&quot; : &quot;quantitative&quot;\n",
       "    }\n",
       "  },\n",
       "  &quot;description&quot; : &quot;Sentiment Analysis&quot;,\n",
       "  &quot;data&quot; : {\n",
       "    &quot;values&quot; : [\n",
       "      {\n",
       "        &quot;prediction&quot; : 0.0,\n",
       "        &quot;count&quot; : 253\n",
       "      },\n",
       "      {\n",
       "        &quot;prediction&quot; : 1.0,\n",
       "        &quot;count&quot; : 6\n",
       "      }\n",
       "    ]\n",
       "  }\n",
       "}\n",
       "   }\n",
       "   vg.embed(&quot;#vegas-94a40821-7b4a-4d2c-8eae-ad37263c321a&quot;, embedSpec, function(error, result) {});\n",
       " &lt;/script&gt;\n",
       "\n",
       "    &lt;/body&gt;\n",
       "&lt;/html&gt;\"></iframe>\n",
       "  <script>\n",
       "    (function() {\n",
       "      function resizeIFrame(el, k) {\n",
       "        var height = el.contentWindow.document.body.scrollHeight || '400'; // Fallback in case of no scroll height\n",
       "        el.style.height = height + 'px';\n",
       "        if (k <= 10) { setTimeout(function() { resizeIFrame(el, k+1) }, 1000 + (k * 250)) };\n",
       "      }\n",
       "      resizeIFrame(document.querySelector('#frame-vegas-94a40821-7b4a-4d2c-8eae-ad37263c321a'), 1);\n",
       "    })(); // IIFE\n",
       "  </script>\n",
       "    "
      ]
     },
     "metadata": {},
     "output_type": "display_data"
    }
   ],
   "source": [
    "Vegas(\"Sentiment Analysis\").\n",
    "\n",
    "withDataFrame(sentimentDF).\n",
    "mark(Bar).\n",
    "\n",
    "encodeX(\"prediction\", Nominal).\n",
    "\n",
    "encodeY(\"count\", Quant).\n",
    "\n",
    "show"
   ]
  },
  {
   "cell_type": "code",
   "execution_count": null,
   "metadata": {},
   "outputs": [],
   "source": []
  },
  {
   "cell_type": "code",
   "execution_count": null,
   "metadata": {},
   "outputs": [],
   "source": []
  },
  {
   "cell_type": "code",
   "execution_count": null,
   "metadata": {},
   "outputs": [],
   "source": []
  },
  {
   "cell_type": "code",
   "execution_count": null,
   "metadata": {},
   "outputs": [],
   "source": []
  },
  {
   "cell_type": "code",
   "execution_count": null,
   "metadata": {},
   "outputs": [],
   "source": []
  },
  {
   "cell_type": "code",
   "execution_count": null,
   "metadata": {},
   "outputs": [],
   "source": []
  },
  {
   "cell_type": "code",
   "execution_count": null,
   "metadata": {},
   "outputs": [],
   "source": []
  },
  {
   "cell_type": "code",
   "execution_count": null,
   "metadata": {},
   "outputs": [],
   "source": [
    "\n"
   ]
  },
  {
   "cell_type": "code",
   "execution_count": null,
   "metadata": {},
   "outputs": [],
   "source": []
  },
  {
   "cell_type": "code",
   "execution_count": null,
   "metadata": {},
   "outputs": [],
   "source": []
  },
  {
   "cell_type": "code",
   "execution_count": null,
   "metadata": {},
   "outputs": [],
   "source": []
  },
  {
   "cell_type": "code",
   "execution_count": null,
   "metadata": {},
   "outputs": [],
   "source": []
  },
  {
   "cell_type": "code",
   "execution_count": null,
   "metadata": {},
   "outputs": [],
   "source": []
  }
 ],
 "metadata": {
  "kernelspec": {
   "display_name": "Scala",
   "language": "scala",
   "name": "scala"
  },
  "language_info": {
   "codemirror_mode": "text/x-scala",
   "file_extension": ".scala",
   "mimetype": "text/x-scala",
   "name": "scala",
   "nbconvert_exporter": "script",
   "version": "2.11.12"
  }
 },
 "nbformat": 4,
 "nbformat_minor": 4
}
